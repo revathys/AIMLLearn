{
  "cells": [
    {
      "cell_type": "markdown",
      "metadata": {
        "id": "view-in-github",
        "colab_type": "text"
      },
      "source": [
        "<a href=\"https://colab.research.google.com/github/revathys/AIMLLearn/blob/main/try_it_9_2_starter.ipynb\" target=\"_parent\"><img src=\"https://colab.research.google.com/assets/colab-badge.svg\" alt=\"Open In Colab\"/></a>"
      ]
    },
    {
      "cell_type": "markdown",
      "metadata": {
        "id": "XY-JiHpnFVSl"
      },
      "source": [
        "### Try-it 9.2: Predicting Wages\n",
        "\n",
        "This activity is meant to summarize your work with regularized regression models.  You will use your earlier work with data preparation and pipelines together with what you've learned with grid searches to determine an optimal model.  In addition to the prior strategies, this example is an excellent opportunity to utilize the `TransformedTargetRegressor` estimator in scikitlearn."
      ]
    },
    {
      "cell_type": "markdown",
      "metadata": {
        "id": "reA0u5lOFVSn"
      },
      "source": [
        "### The Data\n",
        "\n",
        "This dataset is loaded from the OpenML resource library.  Originally from census data, the data contains wage and demographic information on 534 individuals. From the dataset documentation [here](https://www.openml.org/d/534)\n",
        "\n",
        "```\n",
        "The Current Population Survey (CPS) is used to supplement census information between census years. These data consist of a random sample of 534 persons from the CPS, with information on wages and other characteristics of the workers, including sex, number of years of education, years of work experience, occupational status, region of residence, and union membership.\n",
        "```"
      ]
    },
    {
      "cell_type": "code",
      "execution_count": null,
      "metadata": {
        "id": "khWXJoEYFVSo"
      },
      "outputs": [],
      "source": [
        "from sklearn.datasets import fetch_openml"
      ]
    },
    {
      "cell_type": "code",
      "execution_count": null,
      "metadata": {
        "id": "vbpUOH3tFVSp"
      },
      "outputs": [],
      "source": [
        "wages = fetch_openml(data_id=534, as_frame=True)"
      ]
    },
    {
      "cell_type": "code",
      "execution_count": null,
      "metadata": {
        "id": "dR0jSx82FVSp",
        "outputId": "672018f0-9556-43a4-d41b-8c46d2efa45c"
      },
      "outputs": [
        {
          "data": {
            "text/html": [
              "<div>\n",
              "<style scoped>\n",
              "    .dataframe tbody tr th:only-of-type {\n",
              "        vertical-align: middle;\n",
              "    }\n",
              "\n",
              "    .dataframe tbody tr th {\n",
              "        vertical-align: top;\n",
              "    }\n",
              "\n",
              "    .dataframe thead th {\n",
              "        text-align: right;\n",
              "    }\n",
              "</style>\n",
              "<table border=\"1\" class=\"dataframe\">\n",
              "  <thead>\n",
              "    <tr style=\"text-align: right;\">\n",
              "      <th></th>\n",
              "      <th>EDUCATION</th>\n",
              "      <th>SOUTH</th>\n",
              "      <th>SEX</th>\n",
              "      <th>EXPERIENCE</th>\n",
              "      <th>UNION</th>\n",
              "      <th>WAGE</th>\n",
              "      <th>AGE</th>\n",
              "      <th>RACE</th>\n",
              "      <th>OCCUPATION</th>\n",
              "      <th>SECTOR</th>\n",
              "      <th>MARR</th>\n",
              "    </tr>\n",
              "  </thead>\n",
              "  <tbody>\n",
              "    <tr>\n",
              "      <th>0</th>\n",
              "      <td>8.0</td>\n",
              "      <td>no</td>\n",
              "      <td>female</td>\n",
              "      <td>21.0</td>\n",
              "      <td>not_member</td>\n",
              "      <td>5.10</td>\n",
              "      <td>35.0</td>\n",
              "      <td>Hispanic</td>\n",
              "      <td>Other</td>\n",
              "      <td>Manufacturing</td>\n",
              "      <td>Married</td>\n",
              "    </tr>\n",
              "    <tr>\n",
              "      <th>1</th>\n",
              "      <td>9.0</td>\n",
              "      <td>no</td>\n",
              "      <td>female</td>\n",
              "      <td>42.0</td>\n",
              "      <td>not_member</td>\n",
              "      <td>4.95</td>\n",
              "      <td>57.0</td>\n",
              "      <td>White</td>\n",
              "      <td>Other</td>\n",
              "      <td>Manufacturing</td>\n",
              "      <td>Married</td>\n",
              "    </tr>\n",
              "    <tr>\n",
              "      <th>2</th>\n",
              "      <td>12.0</td>\n",
              "      <td>no</td>\n",
              "      <td>male</td>\n",
              "      <td>1.0</td>\n",
              "      <td>not_member</td>\n",
              "      <td>6.67</td>\n",
              "      <td>19.0</td>\n",
              "      <td>White</td>\n",
              "      <td>Other</td>\n",
              "      <td>Manufacturing</td>\n",
              "      <td>Unmarried</td>\n",
              "    </tr>\n",
              "    <tr>\n",
              "      <th>3</th>\n",
              "      <td>12.0</td>\n",
              "      <td>no</td>\n",
              "      <td>male</td>\n",
              "      <td>4.0</td>\n",
              "      <td>not_member</td>\n",
              "      <td>4.00</td>\n",
              "      <td>22.0</td>\n",
              "      <td>White</td>\n",
              "      <td>Other</td>\n",
              "      <td>Other</td>\n",
              "      <td>Unmarried</td>\n",
              "    </tr>\n",
              "    <tr>\n",
              "      <th>4</th>\n",
              "      <td>12.0</td>\n",
              "      <td>no</td>\n",
              "      <td>male</td>\n",
              "      <td>17.0</td>\n",
              "      <td>not_member</td>\n",
              "      <td>7.50</td>\n",
              "      <td>35.0</td>\n",
              "      <td>White</td>\n",
              "      <td>Other</td>\n",
              "      <td>Other</td>\n",
              "      <td>Married</td>\n",
              "    </tr>\n",
              "  </tbody>\n",
              "</table>\n",
              "</div>"
            ],
            "text/plain": [
              "   EDUCATION SOUTH     SEX  EXPERIENCE       UNION  WAGE   AGE      RACE  \\\n",
              "0        8.0    no  female        21.0  not_member  5.10  35.0  Hispanic   \n",
              "1        9.0    no  female        42.0  not_member  4.95  57.0     White   \n",
              "2       12.0    no    male         1.0  not_member  6.67  19.0     White   \n",
              "3       12.0    no    male         4.0  not_member  4.00  22.0     White   \n",
              "4       12.0    no    male        17.0  not_member  7.50  35.0     White   \n",
              "\n",
              "  OCCUPATION         SECTOR       MARR  \n",
              "0      Other  Manufacturing    Married  \n",
              "1      Other  Manufacturing    Married  \n",
              "2      Other  Manufacturing  Unmarried  \n",
              "3      Other          Other  Unmarried  \n",
              "4      Other          Other    Married  "
            ]
          },
          "execution_count": 3,
          "metadata": {},
          "output_type": "execute_result"
        }
      ],
      "source": [
        "wages.frame.head()"
      ]
    },
    {
      "cell_type": "markdown",
      "metadata": {
        "id": "IK8QGWKHFVSp"
      },
      "source": [
        "#### Task\n",
        "\n",
        "Build regression models to predict `WAGE`.  Incorporate the categorical features and transform the target using a logarithm.  Build `Ridge` models and consider some different amounts of regularization.  \n",
        "\n",
        "After fitting your model, interpret the model and try to understand what features led to higher wages.  Consider using `permutation_importance` that you encountered in module 8.  Discuss your findings in the class forum.\n",
        "\n",
        "For an in depth example discussing the perils of interpreting the coefficients, see the example in scikitlearn examples [here](https://scikit-learn.org/stable/auto_examples/inspection/plot_linear_model_coefficient_interpretation.html)."
      ]
    },
    {
      "cell_type": "code",
      "execution_count": null,
      "metadata": {
        "id": "WjCroC5XFVSq"
      },
      "outputs": [],
      "source": [
        "from sklearn.pipeline import Pipeline\n",
        "from sklearn.model_selection import GridSearchCV\n",
        "from sklearn.linear_model import LinearRegression, Ridge, Lasso\n",
        "from sklearn.preprocessing import PolynomialFeatures, StandardScaler, OneHotEncoder\n",
        "from sklearn.compose import make_column_transformer, TransformedTargetRegressor\n",
        "from sklearn.inspection import permutation_importance\n",
        "from sklearn.feature_selection import SequentialFeatureSelector\n",
        "import numpy as np\n",
        "import plotly.express as px\n",
        "import pandas as pd\n",
        "import warnings"
      ]
    },
    {
      "cell_type": "code",
      "execution_count": null,
      "metadata": {
        "id": "RN5gNgzJFVSq"
      },
      "outputs": [],
      "source": []
    },
    {
      "cell_type": "code",
      "execution_count": null,
      "metadata": {
        "id": "NfF020NgFVSq"
      },
      "outputs": [],
      "source": []
    },
    {
      "cell_type": "code",
      "execution_count": null,
      "metadata": {
        "id": "atMQNapwFVSq"
      },
      "outputs": [],
      "source": []
    },
    {
      "cell_type": "code",
      "execution_count": null,
      "metadata": {
        "id": "w5tS7bCDFVSq"
      },
      "outputs": [],
      "source": []
    },
    {
      "cell_type": "code",
      "execution_count": null,
      "metadata": {
        "id": "2cb-pL4qFVSq"
      },
      "outputs": [],
      "source": []
    },
    {
      "cell_type": "code",
      "execution_count": null,
      "metadata": {
        "id": "7jcSzFJbFVSq"
      },
      "outputs": [],
      "source": []
    },
    {
      "cell_type": "code",
      "execution_count": null,
      "metadata": {
        "id": "Nh195WeeFVSq"
      },
      "outputs": [],
      "source": []
    },
    {
      "cell_type": "code",
      "execution_count": null,
      "metadata": {
        "id": "C-zcEi9LFVSq"
      },
      "outputs": [],
      "source": []
    },
    {
      "cell_type": "code",
      "execution_count": null,
      "metadata": {
        "id": "ou4nk-1sFVSr"
      },
      "outputs": [],
      "source": []
    },
    {
      "cell_type": "code",
      "execution_count": null,
      "metadata": {
        "id": "EdCLvNf4FVSr"
      },
      "outputs": [],
      "source": []
    }
  ],
  "metadata": {
    "kernelspec": {
      "display_name": "Python 3",
      "language": "python",
      "name": "python3"
    },
    "language_info": {
      "codemirror_mode": {
        "name": "ipython",
        "version": 3
      },
      "file_extension": ".py",
      "mimetype": "text/x-python",
      "name": "python",
      "nbconvert_exporter": "python",
      "pygments_lexer": "ipython3",
      "version": "3.7.4"
    },
    "colab": {
      "provenance": [],
      "include_colab_link": true
    }
  },
  "nbformat": 4,
  "nbformat_minor": 0
}