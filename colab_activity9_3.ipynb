{
  "cells": [
    {
      "cell_type": "markdown",
      "metadata": {
        "id": "view-in-github",
        "colab_type": "text"
      },
      "source": [
        "<a href=\"https://colab.research.google.com/github/revathys/AIMLLearn/blob/main/colab_activity9_3.ipynb\" target=\"_parent\"><img src=\"https://colab.research.google.com/assets/colab-badge.svg\" alt=\"Open In Colab\"/></a>"
      ]
    },
    {
      "cell_type": "markdown",
      "metadata": {
        "nbgrader": {
          "grade": false,
          "grade_id": "cell-95e44f68c3bfe9c3",
          "locked": true,
          "schema_version": 3,
          "solution": false
        },
        "id": "0EzOzbKUXItQ"
      },
      "source": [
        "### Colab Activity 9.3: Using GridSearchCV\n",
        "\n",
        "**Expected Time: 45 Minutes**\n",
        "\n",
        "\n",
        "This activity focuses on using `GridSearchCV` to search over different hyperparameter values within the `Ridge` estimator.  You will first use the grid search to search parameters for an estimator.  Then, you will incorporate a pipeline into the grid search and identify the step in the pipeline you are searching along with the hyperparameters."
      ]
    },
    {
      "cell_type": "markdown",
      "metadata": {
        "nbgrader": {
          "grade": false,
          "grade_id": "cell-7294e9c55e652e55",
          "locked": true,
          "schema_version": 3,
          "solution": false
        },
        "id": "gCQgcckuXItS"
      },
      "source": [
        "#### Index\n",
        "\n",
        "- [Problem 1](#Problem-1)\n",
        "- [Problem 2](#Problem-2)\n",
        "- [Problem 3](#Problem-3)\n",
        "- [Problem 4](#Problem-4)\n",
        "- [Problem 5](#Problem-5)"
      ]
    },
    {
      "cell_type": "code",
      "execution_count": null,
      "metadata": {
        "nbgrader": {
          "grade": false,
          "grade_id": "cell-67537dcc8e3f0173",
          "locked": true,
          "schema_version": 3,
          "solution": false
        },
        "id": "1S6eXUtAXItS"
      },
      "outputs": [],
      "source": [
        "from sklearn.model_selection import train_test_split, GridSearchCV\n",
        "from sklearn.preprocessing import StandardScaler, PolynomialFeatures\n",
        "from sklearn.linear_model import Ridge\n",
        "from sklearn.pipeline import Pipeline\n",
        "from sklearn.metrics import mean_squared_error\n",
        "from sklearn.datasets import fetch_california_housing\n",
        "\n",
        "import pandas as pd\n",
        "import numpy as np\n",
        "import matplotlib.pyplot as plt"
      ]
    },
    {
      "cell_type": "markdown",
      "metadata": {
        "nbgrader": {
          "grade": false,
          "grade_id": "cell-9ee01055a3ce101d",
          "locked": true,
          "schema_version": 3,
          "solution": false
        },
        "id": "TcRGPeuGXItT"
      },
      "source": [
        "### The Data\n",
        "\n",
        "We again use the California housing dataset from scikit-learn.  You are building regression models with the `MedHouseVal` as the target feature.  The data is loaded and described below.  "
      ]
    },
    {
      "cell_type": "code",
      "execution_count": null,
      "metadata": {
        "nbgrader": {
          "grade": false,
          "grade_id": "cell-92f80ad1fcc64dee",
          "locked": true,
          "schema_version": 3,
          "solution": false
        },
        "id": "oBs4XxHbXItT"
      },
      "outputs": [],
      "source": [
        "cali = fetch_california_housing(as_frame=True)"
      ]
    },
    {
      "cell_type": "code",
      "execution_count": null,
      "metadata": {
        "nbgrader": {
          "grade": false,
          "grade_id": "cell-150d457b676317ad",
          "locked": true,
          "schema_version": 3,
          "solution": false
        },
        "id": "SOsOopWkXItU"
      },
      "outputs": [],
      "source": [
        "cali.frame.head()"
      ]
    },
    {
      "cell_type": "code",
      "execution_count": null,
      "metadata": {
        "nbgrader": {
          "grade": false,
          "grade_id": "cell-f18fe3cb83b04d72",
          "locked": true,
          "schema_version": 3,
          "solution": false
        },
        "id": "d7bpdWviXItU"
      },
      "outputs": [],
      "source": [
        "X = cali.frame.drop('MedHouseVal', axis = 1)\n",
        "y = cali.frame['MedHouseVal']"
      ]
    },
    {
      "cell_type": "code",
      "execution_count": null,
      "metadata": {
        "nbgrader": {
          "grade": false,
          "grade_id": "cell-3fcff186fe78009e",
          "locked": true,
          "schema_version": 3,
          "solution": false
        },
        "id": "B-DBhlj6XItU"
      },
      "outputs": [],
      "source": [
        "X_train, X_test, y_train, y_test = train_test_split(X, y, test_size=0.3, random_state=42)"
      ]
    },
    {
      "cell_type": "markdown",
      "metadata": {
        "nbgrader": {
          "grade": false,
          "grade_id": "cell-5381ce8acf4327d4",
          "locked": true,
          "schema_version": 3,
          "solution": false
        },
        "id": "7M2H1GPyXItU"
      },
      "source": [
        "### Problem 1\n",
        "\n",
        "#### Dictionary for grid search\n",
        "\n",
        "\n",
        "\n",
        "As discussed in the videos, to search over hyperparameters, you have to create a dictionary with a key whose name exactly matches the hyperparameter.  With the `Ridge` estimator, this will be `alpha`.  Create a dictionary with `alpha` as the key and values `[0.1, 1.0, 10.0]` and assign it to the variable `params_dict` below.  "
      ]
    },
    {
      "cell_type": "code",
      "execution_count": null,
      "metadata": {
        "nbgrader": {
          "grade": false,
          "grade_id": "cell-b5834f095d487799",
          "locked": false,
          "schema_version": 3,
          "solution": true
        },
        "id": "kFzU9l5PXItU"
      },
      "outputs": [],
      "source": [
        "\n",
        "\n",
        "params_dict = ''\n",
        "\n",
        "\n",
        "# Answer check\n",
        "print(params_dict.values())\n",
        "print(params_dict.keys())"
      ]
    },
    {
      "cell_type": "markdown",
      "metadata": {
        "nbgrader": {
          "grade": false,
          "grade_id": "cell-82052901bb43629f",
          "locked": true,
          "schema_version": 3,
          "solution": false
        },
        "id": "ynFfwzjpXItU"
      },
      "source": [
        "### Problem 2\n",
        "\n",
        "#### Creating the grid search object\n",
        "\n",
        "\n",
        "Instantiate a `Ridge()` regressor and assign to `ridge`.\n",
        "\n",
        "Next, use `GridSearchCV(` to instantiate a grid search object using `ridge` as the estimator. Set the argument `param_grid` equal to `params_dict`. Assign your grid to `grid` below."
      ]
    },
    {
      "cell_type": "code",
      "execution_count": null,
      "metadata": {
        "nbgrader": {
          "grade": false,
          "grade_id": "cell-05e89786e72b4def",
          "locked": false,
          "schema_version": 3,
          "solution": true
        },
        "id": "y9-uRPIqXItV"
      },
      "outputs": [],
      "source": [
        "\n",
        "\n",
        "ridge = ''\n",
        "grid = ''\n",
        "\n",
        "\n",
        "\n",
        "# Answer check\n",
        "print(grid.get_params()['param_grid'])\n",
        "print(grid)"
      ]
    },
    {
      "cell_type": "markdown",
      "metadata": {
        "nbgrader": {
          "grade": false,
          "grade_id": "cell-c6625aee21f52b20",
          "locked": true,
          "schema_version": 3,
          "solution": false
        },
        "id": "7sGIT2D6XItV"
      },
      "source": [
        "### Problem 3\n",
        "\n",
        "#### Performing the grid search\n",
        "\n",
        "\n",
        "\n",
        "\n",
        "- Use the `fit` function on `grid` to train your model using `X_train`  and `y_train`.\n",
        "- Use the `predict` function on `grid` to compute the predictions on `X_train`. Assign your result to `train_preds`.\n",
        "- Use the `predict` function on `gird` to compute the predictions on `X_test`. Assign your result to `test_preds`.\n",
        "- Use the `mean_squared_error` function to compute the MSE between `y_train` and `train_preds`. Assign your result to `train_mse`.\n",
        "- Use the `mean_squared_error` function to compute the MSE between `y_test` and `test_preds`. Assign your result to `test_mse`.\n",
        "\n"
      ]
    },
    {
      "cell_type": "code",
      "execution_count": null,
      "metadata": {
        "nbgrader": {
          "grade": false,
          "grade_id": "cell-f638395baa159241",
          "locked": false,
          "schema_version": 3,
          "solution": true
        },
        "id": "nd4FusP6XItV"
      },
      "outputs": [],
      "source": [
        "\n",
        "\n",
        "train_preds = ''\n",
        "test_preds = ''\n",
        "train_mse = ''\n",
        "test_mse = ''\n",
        "\n",
        "# Answer check\n",
        "print(f'Train MSE: {train_mse}')\n",
        "print(f'Test MSE: {test_mse}')"
      ]
    },
    {
      "cell_type": "markdown",
      "metadata": {
        "nbgrader": {
          "grade": false,
          "grade_id": "cell-725469266717dbdf",
          "locked": true,
          "schema_version": 3,
          "solution": false
        },
        "id": "WHFHJlV5XItV"
      },
      "source": [
        "### Problem 4\n",
        "\n",
        "#### Identify optimal alpha value\n",
        "\n",
        "\n",
        "Use y fit grid to determine the optimal alpha value.  Assign this as a float to `best_alpha` below.  (**Hint**: Use the `best_params_` attribute of the fit grid.)"
      ]
    },
    {
      "cell_type": "code",
      "execution_count": null,
      "metadata": {
        "nbgrader": {
          "grade": false,
          "grade_id": "cell-b8942783b220b4ea",
          "locked": false,
          "schema_version": 3,
          "solution": true
        },
        "id": "kaW7Wiv8XItV"
      },
      "outputs": [],
      "source": [
        "\n",
        "\n",
        "best_alpha = ''\n",
        "\n",
        "\n",
        "# Answer check\n",
        "print(f'Best alpha: {list(best_alpha.values())[0]}')"
      ]
    },
    {
      "cell_type": "markdown",
      "metadata": {
        "nbgrader": {
          "grade": false,
          "grade_id": "cell-f425bd609cecb81d",
          "locked": true,
          "schema_version": 3,
          "solution": false
        },
        "id": "lJuIlnIOXItV"
      },
      "source": [
        "### Problem 5\n",
        "\n",
        "#### Pipeline with Grid Search\n",
        "\n",
        "\n",
        "To use a `Pipeline` in a `GridSearchCV`, you want to preface the value in your parameter dictionary with an all-lowercase version of the object.  For example, to search over a ridge estimator's alpha value, we will create a pipeline with names `scaler` and `ridge` to use the `StandardScaler` followed by the `Ridge` regressor.  To search over the ridge object alpha parameter, we write `ridge__alpha`. (Note there are two underscores here.)\n",
        "\n",
        "Below, you are provided a pipeline and dictionary ready to be used in a new grid search.  You are to instantiate, fit, and score a grid search on the train and test data using mean squared error. Create your grid object as `grid_2` below and assign the training error and test error to `model_2_train_mse` and `model_2_test_mse`.  Determine the optimal value for `alpha` and assign it as a dictionary to `model_2_best_alpha` below."
      ]
    },
    {
      "cell_type": "code",
      "execution_count": null,
      "metadata": {
        "id": "JJ8zfRIGXItV"
      },
      "outputs": [],
      "source": [
        "pipe = Pipeline([('scale', StandardScaler()), ('ridge', Ridge())])"
      ]
    },
    {
      "cell_type": "code",
      "execution_count": null,
      "metadata": {
        "id": "e4jx6rDSXItV"
      },
      "outputs": [],
      "source": [
        "param_dict = {'ridge__alpha': [0.001, 0.1, 1.0, 10.0, 100.0, 1000.0]}"
      ]
    },
    {
      "cell_type": "code",
      "execution_count": null,
      "metadata": {
        "nbgrader": {
          "grade": false,
          "grade_id": "cell-c4b9fe4c043a7ef6",
          "locked": false,
          "schema_version": 3,
          "solution": true
        },
        "id": "XKfFziFkXItV"
      },
      "outputs": [],
      "source": [
        "\n",
        "\n",
        "grid_2 = ''\n",
        "model_2_train_mse = ''\n",
        "model_2_test_mse = ''\n",
        "model_2_best_alpha = ''\n",
        "\n",
        "\n",
        "# Answer check\n",
        "print(f'Test MSE: {model_2_test_mse}')\n",
        "print(f'Best Alpha: {list(model_2_best_alpha.values())[0]}')"
      ]
    }
  ],
  "metadata": {
    "celltoolbar": "Create Assignment",
    "kernelspec": {
      "display_name": "Python 3 (ipykernel)",
      "language": "python",
      "name": "python3"
    },
    "language_info": {
      "codemirror_mode": {
        "name": "ipython",
        "version": 3
      },
      "file_extension": ".py",
      "mimetype": "text/x-python",
      "name": "python",
      "nbconvert_exporter": "python",
      "pygments_lexer": "ipython3",
      "version": "3.12.1"
    },
    "colab": {
      "provenance": [],
      "include_colab_link": true
    }
  },
  "nbformat": 4,
  "nbformat_minor": 0
}