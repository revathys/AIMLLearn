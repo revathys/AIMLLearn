{
 "cells": [
  {
   "attachments": {},
   "cell_type": "markdown",
   "metadata": {
    "deletable": false,
    "editable": false,
    "id": "-6G7P7X-sMev",
    "nbgrader": {
     "cell_type": "markdown",
     "checksum": "a144d1198ecac6ba7e0a6e971f6ed29e",
     "grade": false,
     "grade_id": "cell-da86c9541d2f942a",
     "locked": true,
     "schema_version": 3,
     "solution": false
    }
   },
   "source": [
    "### Required Assignment 12.4: KNN for Regression and Imputation\n",
    "\n",
    "**Expected Time = 60 minutes** \n",
    "\n",
    "**Total Points = 50** \n",
    "\n",
    "This activity extends the use of K Nearest Neighbors to the problem of regression.  While typically not as high performing in predictive models, the KNN model for regression can be an effective approach to imputing missing data.  You will explore both of these ideas using scikit-learn, where there exists the `KNeighborsRegressor` and the `KNNImputer`."
   ]
  },
  {
   "cell_type": "markdown",
   "metadata": {
    "deletable": false,
    "editable": false,
    "id": "eoUFqpeSsMez",
    "nbgrader": {
     "cell_type": "markdown",
     "checksum": "1391f057eb2e3961612e79a4bc6ed73f",
     "grade": false,
     "grade_id": "cell-9d3f95dd45662d4b",
     "locked": true,
     "schema_version": 3,
     "solution": false
    }
   },
   "source": [
    "#### Index\n",
    "\n",
    "- [Problem 1](#-Problem-1)\n",
    "- [Problem 2](#-Problem-2)\n",
    "- [Problem 3](#-Problem-3)\n",
    "- [Problem 4](#-Problem-4)\n",
    "- [Problem 5](#-Problem-5)"
   ]
  },
  {
   "cell_type": "code",
   "execution_count": 16,
   "metadata": {
    "id": "dUdzLI4isMez"
   },
   "outputs": [],
   "source": [
    "import pandas as pd\n",
    "import numpy as np\n",
    "import matplotlib.pyplot as plt\n",
    "\n",
    "from sklearn.neighbors import KNeighborsRegressor\n",
    "from sklearn.impute import KNNImputer\n",
    "from sklearn.preprocessing import StandardScaler, OneHotEncoder\n",
    "from sklearn.pipeline import Pipeline\n",
    "from sklearn.compose import make_column_transformer\n",
    "from sklearn.metrics import mean_squared_error\n",
    "from sklearn.model_selection import train_test_split, GridSearchCV\n",
    "from sklearn import set_config\n",
    "set_config(\"figure\")"
   ]
  },
  {
   "cell_type": "markdown",
   "metadata": {
    "deletable": false,
    "editable": false,
    "id": "tYtgtqOwsMe1",
    "nbgrader": {
     "cell_type": "markdown",
     "checksum": "0a297ac5e93ab8bcc819aa5297dab678",
     "grade": false,
     "grade_id": "cell-97f06c75d5247c34",
     "locked": true,
     "schema_version": 3,
     "solution": false
    }
   },
   "source": [
    "### The Data\n",
    "\n",
    "To begin, you will use a dataset accessed from the R languages DAAG package containing information on possums trapped at seven different sites in Australia.  It is loaded and displayed below.  Your regression task will be to predict the head size using the other features.  The training and testing data is created for you below as well."
   ]
  },
  {
   "cell_type": "code",
   "execution_count": 17,
   "metadata": {
    "id": "x_RHuhWTsMe1"
   },
   "outputs": [],
   "source": [
    "possums_missing = pd.read_csv('data/possum.csv')"
   ]
  },
  {
   "cell_type": "code",
   "execution_count": 18,
   "metadata": {},
   "outputs": [
    {
     "name": "stdout",
     "output_type": "stream",
     "text": [
      "<class 'pandas.core.frame.DataFrame'>\n",
      "RangeIndex: 104 entries, 0 to 103\n",
      "Data columns (total 14 columns):\n",
      " #   Column    Non-Null Count  Dtype  \n",
      "---  ------    --------------  -----  \n",
      " 0   case      104 non-null    int64  \n",
      " 1   site      104 non-null    int64  \n",
      " 2   Pop       104 non-null    object \n",
      " 3   sex       104 non-null    object \n",
      " 4   age       102 non-null    float64\n",
      " 5   hdlngth   104 non-null    float64\n",
      " 6   skullw    104 non-null    float64\n",
      " 7   totlngth  104 non-null    float64\n",
      " 8   taill     104 non-null    float64\n",
      " 9   footlgth  103 non-null    float64\n",
      " 10  earconch  104 non-null    float64\n",
      " 11  eye       104 non-null    float64\n",
      " 12  chest     104 non-null    float64\n",
      " 13  belly     104 non-null    float64\n",
      "dtypes: float64(10), int64(2), object(2)\n",
      "memory usage: 11.5+ KB\n"
     ]
    }
   ],
   "source": [
    "possums_missing.info() #note the missing values -- we will drop these to begin"
   ]
  },
  {
   "cell_type": "code",
   "execution_count": 19,
   "metadata": {},
   "outputs": [],
   "source": [
    "possums = possums_missing.dropna()"
   ]
  },
  {
   "cell_type": "code",
   "execution_count": 20,
   "metadata": {
    "id": "WJrW4tgCsMe4",
    "outputId": "01d69053-aad1-4da9-b438-84728f9cf69c"
   },
   "outputs": [
    {
     "data": {
      "text/html": [
       "<div>\n",
       "<style scoped>\n",
       "    .dataframe tbody tr th:only-of-type {\n",
       "        vertical-align: middle;\n",
       "    }\n",
       "\n",
       "    .dataframe tbody tr th {\n",
       "        vertical-align: top;\n",
       "    }\n",
       "\n",
       "    .dataframe thead th {\n",
       "        text-align: right;\n",
       "    }\n",
       "</style>\n",
       "<table border=\"1\" class=\"dataframe\">\n",
       "  <thead>\n",
       "    <tr style=\"text-align: right;\">\n",
       "      <th></th>\n",
       "      <th>case</th>\n",
       "      <th>site</th>\n",
       "      <th>Pop</th>\n",
       "      <th>sex</th>\n",
       "      <th>age</th>\n",
       "      <th>hdlngth</th>\n",
       "      <th>skullw</th>\n",
       "      <th>totlngth</th>\n",
       "      <th>taill</th>\n",
       "      <th>footlgth</th>\n",
       "      <th>earconch</th>\n",
       "      <th>eye</th>\n",
       "      <th>chest</th>\n",
       "      <th>belly</th>\n",
       "    </tr>\n",
       "  </thead>\n",
       "  <tbody>\n",
       "    <tr>\n",
       "      <th>0</th>\n",
       "      <td>1</td>\n",
       "      <td>1</td>\n",
       "      <td>Vic</td>\n",
       "      <td>m</td>\n",
       "      <td>8.0</td>\n",
       "      <td>94.1</td>\n",
       "      <td>60.4</td>\n",
       "      <td>89.0</td>\n",
       "      <td>36.0</td>\n",
       "      <td>74.5</td>\n",
       "      <td>54.5</td>\n",
       "      <td>15.2</td>\n",
       "      <td>28.0</td>\n",
       "      <td>36.0</td>\n",
       "    </tr>\n",
       "    <tr>\n",
       "      <th>1</th>\n",
       "      <td>2</td>\n",
       "      <td>1</td>\n",
       "      <td>Vic</td>\n",
       "      <td>f</td>\n",
       "      <td>6.0</td>\n",
       "      <td>92.5</td>\n",
       "      <td>57.6</td>\n",
       "      <td>91.5</td>\n",
       "      <td>36.5</td>\n",
       "      <td>72.5</td>\n",
       "      <td>51.2</td>\n",
       "      <td>16.0</td>\n",
       "      <td>28.5</td>\n",
       "      <td>33.0</td>\n",
       "    </tr>\n",
       "    <tr>\n",
       "      <th>2</th>\n",
       "      <td>3</td>\n",
       "      <td>1</td>\n",
       "      <td>Vic</td>\n",
       "      <td>f</td>\n",
       "      <td>6.0</td>\n",
       "      <td>94.0</td>\n",
       "      <td>60.0</td>\n",
       "      <td>95.5</td>\n",
       "      <td>39.0</td>\n",
       "      <td>75.4</td>\n",
       "      <td>51.9</td>\n",
       "      <td>15.5</td>\n",
       "      <td>30.0</td>\n",
       "      <td>34.0</td>\n",
       "    </tr>\n",
       "    <tr>\n",
       "      <th>3</th>\n",
       "      <td>4</td>\n",
       "      <td>1</td>\n",
       "      <td>Vic</td>\n",
       "      <td>f</td>\n",
       "      <td>6.0</td>\n",
       "      <td>93.2</td>\n",
       "      <td>57.1</td>\n",
       "      <td>92.0</td>\n",
       "      <td>38.0</td>\n",
       "      <td>76.1</td>\n",
       "      <td>52.2</td>\n",
       "      <td>15.2</td>\n",
       "      <td>28.0</td>\n",
       "      <td>34.0</td>\n",
       "    </tr>\n",
       "    <tr>\n",
       "      <th>4</th>\n",
       "      <td>5</td>\n",
       "      <td>1</td>\n",
       "      <td>Vic</td>\n",
       "      <td>f</td>\n",
       "      <td>2.0</td>\n",
       "      <td>91.5</td>\n",
       "      <td>56.3</td>\n",
       "      <td>85.5</td>\n",
       "      <td>36.0</td>\n",
       "      <td>71.0</td>\n",
       "      <td>53.2</td>\n",
       "      <td>15.1</td>\n",
       "      <td>28.5</td>\n",
       "      <td>33.0</td>\n",
       "    </tr>\n",
       "  </tbody>\n",
       "</table>\n",
       "</div>"
      ],
      "text/plain": [
       "   case  site  Pop sex  age  hdlngth  skullw  totlngth  taill  footlgth  \\\n",
       "0     1     1  Vic   m  8.0     94.1    60.4      89.0   36.0      74.5   \n",
       "1     2     1  Vic   f  6.0     92.5    57.6      91.5   36.5      72.5   \n",
       "2     3     1  Vic   f  6.0     94.0    60.0      95.5   39.0      75.4   \n",
       "3     4     1  Vic   f  6.0     93.2    57.1      92.0   38.0      76.1   \n",
       "4     5     1  Vic   f  2.0     91.5    56.3      85.5   36.0      71.0   \n",
       "\n",
       "   earconch   eye  chest  belly  \n",
       "0      54.5  15.2   28.0   36.0  \n",
       "1      51.2  16.0   28.5   33.0  \n",
       "2      51.9  15.5   30.0   34.0  \n",
       "3      52.2  15.2   28.0   34.0  \n",
       "4      53.2  15.1   28.5   33.0  "
      ]
     },
     "execution_count": 20,
     "metadata": {},
     "output_type": "execute_result"
    }
   ],
   "source": [
    "possums.head()"
   ]
  },
  {
   "cell_type": "code",
   "execution_count": 21,
   "metadata": {
    "id": "6Q4Dd2BrsMe4"
   },
   "outputs": [],
   "source": [
    "X = possums.drop(['skullw', 'Pop'], axis = 1)"
   ]
  },
  {
   "cell_type": "code",
   "execution_count": 22,
   "metadata": {
    "id": "g3QGyUs1sMe5"
   },
   "outputs": [],
   "source": [
    "y = possums.skullw"
   ]
  },
  {
   "cell_type": "code",
   "execution_count": 23,
   "metadata": {
    "id": "t6kVAyEJsMe5"
   },
   "outputs": [],
   "source": [
    "X_train, X_test, y_train, y_test = train_test_split(X, y, random_state = 34)"
   ]
  },
  {
   "cell_type": "markdown",
   "metadata": {
    "deletable": false,
    "editable": false,
    "id": "gt0dh_UCsMe5",
    "nbgrader": {
     "cell_type": "markdown",
     "checksum": "20daf329e8429b4987189438ea86e70f",
     "grade": false,
     "grade_id": "cell-6dab76784f9d32bc",
     "locked": true,
     "schema_version": 3,
     "solution": false
    }
   },
   "source": [
    "[Back to top](#-Index)\n",
    "\n",
    "### Problem 1\n",
    "\n",
    "#### A Basic Regression Pipeline\n",
    "\n",
    "**10 Points**\n",
    "\n",
    "Use the `make_column_transformer` function to define a transformer instance named `transformer`. Apply a `OneHotEncoder` transformation with `drop = 'if_binary'` to the `sex` column. Transform the `remainder` columns using `StandardScaler()`.\n",
    "\n",
    "\n",
    "Next, build a basic regression pipeline with steps `transformer` and `knn` that binarizes the categorical feature  and feeds these into a `KNeighborsRegressor` with all default settings. Assign your pipeline to `knn_pipe`.\n",
    "\n",
    "Use the `fit` function to fit the pipeline to the training sets.\n",
    "\n",
    "Use the `predict` function on `knn_pipe` to make predictions on `X_test`. Assign the result to `preds`.\n",
    "\n",
    "Finally, use the `mean_squared_error` function to compute the MSE between `y_test` and `preds`. Assign the results to `test_mse`."
   ]
  },
  {
   "cell_type": "code",
   "execution_count": 24,
   "metadata": {
    "deletable": false,
    "id": "8yaFj2mDsMe6",
    "nbgrader": {
     "cell_type": "code",
     "checksum": "fa4c35c392a8176674322f3d3fb4b3e7",
     "grade": false,
     "grade_id": "cell-157db529463735c0",
     "locked": false,
     "schema_version": 3,
     "solution": true
    },
    "outputId": "443c29ed-655e-4471-de19-accbc6422faf"
   },
   "outputs": [
    {
     "name": "stdout",
     "output_type": "stream",
     "text": [
      "9.236092307692314\n"
     ]
    }
   ],
   "source": [
    "### GRADED\n",
    "\n",
    "transformer = make_column_transformer((OneHotEncoder(drop = 'if_binary'),['sex']), remainder =  StandardScaler())\n",
    "knn_pipe = Pipeline([('transformer', transformer),('knn',KNeighborsRegressor())])\n",
    "knn_pipe.fit(X_train,y_train)\n",
    "preds = knn_pipe.predict(X_test)\n",
    "test_mse = mean_squared_error(preds,y_test)\n",
    "\n",
    "# YOUR CODE HERE\n",
    "#raise NotImplementedError()\n",
    "\n",
    "# Answer check\n",
    "print(test_mse)"
   ]
  },
  {
   "cell_type": "code",
   "execution_count": null,
   "metadata": {
    "deletable": false,
    "editable": false,
    "id": "9-ocWAvjsMe6",
    "nbgrader": {
     "cell_type": "code",
     "checksum": "bacfff3e91f297d3ec5ce753b6cd651d",
     "grade": true,
     "grade_id": "cell-f71914456d413422",
     "locked": true,
     "points": 10,
     "schema_version": 3,
     "solution": false
    }
   },
   "outputs": [],
   "source": []
  },
  {
   "cell_type": "markdown",
   "metadata": {
    "deletable": false,
    "editable": false,
    "id": "-NDZoEEJsMe7",
    "nbgrader": {
     "cell_type": "markdown",
     "checksum": "4d1710cfb86f67ebd241002fb25afcc7",
     "grade": false,
     "grade_id": "cell-d7aaaa6ea389e19c",
     "locked": true,
     "schema_version": 3,
     "solution": false
    }
   },
   "source": [
    "[Back to top](#-Index)\n",
    "\n",
    "### Problem 2\n",
    "\n",
    "#### GridSearch the Pipeline\n",
    "\n",
    "**10 Points**\n",
    "\n",
    "Define a dictionary `params`. The key of this dictionary will be `'knn__n_neighbors'`, the values will be equal to `range(1, len(y_test), 2)`.\n",
    "\n",
    "Use the `GridSearchCV` function to perform a grid search on `knn_pipe` with `param_grid` equal to `params`.\n",
    "\n",
    "Use the `fit` function to fit the pipeline to the training sets.\n",
    "\n",
    "Use the `best_params_` method on `knn_pipe` with argument `'knn__n_neighbors'`. Assign the result to `best_k` below."
   ]
  },
  {
   "cell_type": "code",
   "execution_count": 25,
   "metadata": {
    "deletable": false,
    "id": "RmOQVlXasMe7",
    "nbgrader": {
     "cell_type": "code",
     "checksum": "8bcd3fc23dbfabe41cb1acba2c310690",
     "grade": false,
     "grade_id": "cell-59001bc6f4bf325f",
     "locked": false,
     "schema_version": 3,
     "solution": true
    },
    "outputId": "455c970b-9122-426d-ab1e-a3e31d1bdcee"
   },
   "outputs": [
    {
     "name": "stdout",
     "output_type": "stream",
     "text": [
      "3\n"
     ]
    }
   ],
   "source": [
    "### GRADED\n",
    "\n",
    "params = {'knn__n_neighbors' : range(1,len(y_test),2)}\n",
    "knn_grid = GridSearchCV(estimator=knn_pipe, param_grid=params)\n",
    "knn_grid.fit(X_train,y_train)\n",
    "best_k = knn_grid.best_params_['knn__n_neighbors']\n",
    "\n",
    "# YOUR CODE HERE\n",
    "#raise NotImplementedError()\n",
    "\n",
    "# Answer check\n",
    "print(best_k)"
   ]
  },
  {
   "cell_type": "code",
   "execution_count": null,
   "metadata": {
    "deletable": false,
    "editable": false,
    "id": "4JeOl1cisMe7",
    "nbgrader": {
     "cell_type": "code",
     "checksum": "b84cd9070b72a0085e3f54f6a3232b8b",
     "grade": true,
     "grade_id": "cell-d05b9b805c372451",
     "locked": true,
     "points": 10,
     "schema_version": 3,
     "solution": false
    }
   },
   "outputs": [],
   "source": []
  },
  {
   "cell_type": "markdown",
   "metadata": {
    "deletable": false,
    "editable": false,
    "id": "__AH4vJ7sMe8",
    "nbgrader": {
     "cell_type": "markdown",
     "checksum": "f9b96c2bc2de17d6506139c143fe5a3e",
     "grade": false,
     "grade_id": "cell-9f1fc16f888a5bb8",
     "locked": true,
     "schema_version": 3,
     "solution": false
    }
   },
   "source": [
    "[Back to top](#-Index)\n",
    "\n",
    "### Problem 3\n",
    "\n",
    "#### Handling the missing data\n",
    "\n",
    "**10 Points**\n",
    "\n",
    "Earlier, we dropped the rows containing missing data.  If we wanted to keep these rows for our model we need to make a decision about what values to fill in.  The `KNNImputer` uses the K Nearest Neighbor algorithm in order to determine this value.  Intuitively, you could see the argument for this where you use similar observations to stand in for the missing values.  \n",
    "\n",
    "```\n",
    "Each sample's missing values are imputed using the mean value from `n_neighbors` nearest neighbors found in the training set. Two samples are close if the features that neither is missing are close.\n",
    "```\n",
    "\n"
   ]
  },
  {
   "cell_type": "markdown",
   "metadata": {
    "deletable": false,
    "editable": false,
    "id": "H58DCIHksMe8",
    "nbgrader": {
     "cell_type": "markdown",
     "checksum": "eec6faa12e14f7e59105f0b7fa4a9999",
     "grade": false,
     "grade_id": "cell-0d21b9cf5547c467",
     "locked": true,
     "schema_version": 3,
     "solution": false
    }
   },
   "source": [
    "Use the `make_column_transformer` function to define a transformer instance named `transformer`. Apply a `OneHotEncoder` transformation with `drop = 'if_binary'` to the `sex` column. Transform the `remainder` columns using `StandardScaler()`.\n",
    "\n",
    "\n",
    "Next, build a basic regression pipeline with steps `'transform'`, `'impute'`, and `'model'`. Assign `transformer` to `'transform'`, `KNNImputer()` to `'impute'`, and `KNeighborsRegressor()` to `'model'`.\n",
    "\n",
    "Use the `fit` function to fit the pipeline to the `X_train_missing` and `y_train_missing`.\n",
    "\n",
    "Use the `predict` function on `imputer_pipe` to make predictions on `X_test_missing`. Assign the result to `preds`.\n",
    "\n",
    "Finally, use the `mean_squared_error` function to compute the MSE between `y_test_missing` and `preds`. Assign the results to `test_mse`."
   ]
  },
  {
   "cell_type": "code",
   "execution_count": 26,
   "metadata": {
    "id": "qPt7e-XosMe8"
   },
   "outputs": [],
   "source": [
    "X = possums_missing.drop(['skullw', 'Pop'], axis = 1)\n",
    "y = possums_missing.skullw\n",
    "X_train_missing, X_test_missing, y_train_missing, y_test_missing = train_test_split(X, y, random_state = 43)"
   ]
  },
  {
   "cell_type": "code",
   "execution_count": 27,
   "metadata": {
    "deletable": false,
    "id": "5xG1LWeNsMe8",
    "nbgrader": {
     "cell_type": "code",
     "checksum": "aadb603b17e7126d167b603005fe2ba6",
     "grade": false,
     "grade_id": "cell-f233139fa3f2b102",
     "locked": false,
     "schema_version": 3,
     "solution": true
    },
    "outputId": "2eb15e79-ab12-485d-abf4-a02c83c5f115"
   },
   "outputs": [
    {
     "name": "stdout",
     "output_type": "stream",
     "text": [
      "3.4073538461538493\n"
     ]
    }
   ],
   "source": [
    "### GRADED\n",
    "imputer_pipe = Pipeline([('transform',transformer),('impute',KNNImputer()),('model', KNeighborsRegressor())])\n",
    "imputer_pipe.fit(X_train_missing,y_train_missing)\n",
    "preds = imputer_pipe.predict(X_test_missing)\n",
    "test_mse = mean_squared_error(preds,y_test_missing )\n",
    "# YOUR CODE HERE\n",
    "#raise NotImplementedError()\n",
    "\n",
    "# Answer check\n",
    "print(test_mse)"
   ]
  },
  {
   "cell_type": "code",
   "execution_count": null,
   "metadata": {
    "deletable": false,
    "editable": false,
    "id": "DuDx1bessMe9",
    "nbgrader": {
     "cell_type": "code",
     "checksum": "dfbddadb648cc379afba488d1f2ac782",
     "grade": true,
     "grade_id": "cell-6bde2410cb9afe0a",
     "locked": true,
     "points": 10,
     "schema_version": 3,
     "solution": false
    }
   },
   "outputs": [],
   "source": []
  },
  {
   "cell_type": "markdown",
   "metadata": {
    "deletable": false,
    "editable": false,
    "id": "QTEzFtQWsMe9",
    "nbgrader": {
     "cell_type": "markdown",
     "checksum": "df7aa815721defac9122d1bdadcf6ab6",
     "grade": false,
     "grade_id": "cell-bee452fdbb535351",
     "locked": true,
     "schema_version": 3,
     "solution": false
    }
   },
   "source": [
    "[Back to top](#-Index)\n",
    "\n",
    "### Problem 4\n",
    "\n",
    "#### Grid Searching the Pipeline\n",
    "\n",
    "**10 Points**\n",
    "\n",
    "\n",
    "Define a dictionary `params`. The keys of this dictionary will be `'model__n_neighbors'` and `'impute__n_neighbors'` with values  `range(1, len(y_test), 2)` and `[1, 2, 3, 4, 5]`, respectively.\n",
    "\n",
    "Use the `GridSearchCV` function to perform a grid search on `imputer_pipe` with `param_grid` equal to `params`. Assign the result to `imputer_grid`.\n",
    "\n",
    "Use the `fit` function to fit `imputer_grid` to `X_train_missing` and `y_train_missing`.\n",
    "\n",
    "Use the `best_params_` method on `imputer_grid`. Assign the result to `best_ks` below.\n",
    "\n",
    "Use the `predict` functions on `imputer_grid` to calculate the predictions on `X_test_missing`. Assign the result to `preds`.\n",
    "\n",
    "Finally, use the `mean_squared_error` function to calculate the MSE between `y_test_missing` and `preds`. Assign\n",
    "the mean squared error to `imputer_mse` below.  "
   ]
  },
  {
   "cell_type": "code",
   "execution_count": 28,
   "metadata": {
    "deletable": false,
    "id": "WANndPT3sMe9",
    "nbgrader": {
     "cell_type": "code",
     "checksum": "3bf7704da105c738298ed7d7e47b388e",
     "grade": false,
     "grade_id": "cell-bfe70713b0b74b31",
     "locked": false,
     "schema_version": 3,
     "solution": true
    },
    "outputId": "9e6c4c3c-0fc0-4c74-931b-e00250ed63ec"
   },
   "outputs": [
    {
     "name": "stdout",
     "output_type": "stream",
     "text": [
      "{'impute__n_neighbors': 2, 'model__n_neighbors': 5}\n",
      "3.4073538461538493\n"
     ]
    }
   ],
   "source": [
    "### GRADED\n",
    "\n",
    "params = {'model__n_neighbors':range(1, len(y_test), 2), 'impute__n_neighbors': [1, 2, 3, 4, 5]}\n",
    "imputer_grid = GridSearchCV(estimator=imputer_pipe, param_grid=params)\n",
    "imputer_grid.fit(X_train_missing,y_train_missing)\n",
    "\n",
    "best_ks = imputer_grid.best_params_\n",
    "preds = imputer_grid.predict(X_test_missing)\n",
    "imputer_mse = mean_squared_error(preds, y_test_missing)\n",
    "\n",
    "# YOUR CODE HERE\n",
    "#raise NotImplementedError()\n",
    "\n",
    "# Answer check\n",
    "print(best_ks)\n",
    "print(imputer_mse)"
   ]
  },
  {
   "cell_type": "code",
   "execution_count": null,
   "metadata": {
    "deletable": false,
    "editable": false,
    "id": "D9ho3P24sMe9",
    "nbgrader": {
     "cell_type": "code",
     "checksum": "19d494e5c4ab80c743c9b592b1ff77af",
     "grade": true,
     "grade_id": "cell-6100adb6474dcd30",
     "locked": true,
     "points": 10,
     "schema_version": 3,
     "solution": false
    }
   },
   "outputs": [],
   "source": []
  },
  {
   "cell_type": "markdown",
   "metadata": {
    "deletable": false,
    "editable": false,
    "id": "grtE9O8VsMe9",
    "nbgrader": {
     "cell_type": "markdown",
     "checksum": "16b3f51288c75b8848a16071618879de",
     "grade": false,
     "grade_id": "cell-e0f52ee1297da5f9",
     "locked": true,
     "schema_version": 3,
     "solution": false
    }
   },
   "source": [
    "[Back to top](#-Index)\n",
    "\n",
    "### Problem 5\n",
    "\n",
    "#### Interpreting the model\n",
    "\n",
    "**10 Points**\n",
    "\n",
    "Unlike linear regression, we have no parameters from the resulting model to investigate and understand the effect of increasing or decreasing certain features based on these coefficients.  All hope is not lost however, as you can simulate this behavior by running through different values of each feature and exploring how the predictions from the model change.\n",
    "\n",
    "This is the idea behind the `partial_dependence` function in scikit-learn.  Note that it works in a similar manner to the confusion matrix display from earlier.  For a deeper discussion/example of partial dependence plots see the user guide [here](https://scikit-learn.org/stable/modules/partial_dependence.html#partial-dependence). Below, the Partial Dependence plots for six features are plotted.  Which feature seems more important -- `hdlngth` or `footlgth` based on these plots.  Assign your response as a string to `ans5` below. \n",
    "\n",
    "Again, the big idea is the x-axis represents increasing values of the feature, and the y-values represent the predicted value of the target.  The code that produced the plots is shown below as well as the plot. \n",
    "\n",
    "```python\n",
    "from sklearn.inspection import PartialDependenceDisplay, partial_dependence\n",
    "fig, ax = plt.subplots(figsize = (20, 6))\n",
    "PartialDependenceDisplay.from_estimator(pipe, X, features = ['hdlngth', 'totlngth', 'footlgth', 'earconch', 'eye', 'chest'], ax = ax)\n",
    "ax.set_title('Partial Dependence Plots for 6 Features')\n",
    "```\n",
    "\n",
    "<center>\n",
    "    <img src = 'images/part_dep.png'/>\n",
    "</center>\n"
   ]
  },
  {
   "cell_type": "code",
   "execution_count": 29,
   "metadata": {
    "deletable": false,
    "id": "9SYCiWBmsMe-",
    "nbgrader": {
     "cell_type": "code",
     "checksum": "243690b21219c5254e1f4ec4521e1832",
     "grade": false,
     "grade_id": "cell-5a43e7a35dfafb02",
     "locked": false,
     "schema_version": 3,
     "solution": true
    },
    "outputId": "16df164c-47d7-4f52-d432-e1b3cffd6bfb"
   },
   "outputs": [
    {
     "name": "stdout",
     "output_type": "stream",
     "text": [
      "hdlngth\n"
     ]
    }
   ],
   "source": [
    "### GRADED\n",
    "\n",
    "ans5 = 'hdlngth'\n",
    "\n",
    "# YOUR CODE HERE\n",
    "#raise NotImplementedError()\n",
    "\n",
    "# Answer check\n",
    "print(ans5)"
   ]
  },
  {
   "cell_type": "code",
   "execution_count": null,
   "metadata": {
    "deletable": false,
    "editable": false,
    "id": "4gx5mxAVsMe-",
    "nbgrader": {
     "cell_type": "code",
     "checksum": "64be71146a4df1538967721d029e30a2",
     "grade": true,
     "grade_id": "cell-397d28659591807a",
     "locked": true,
     "points": 10,
     "schema_version": 3,
     "solution": false
    }
   },
   "outputs": [],
   "source": []
  },
  {
   "cell_type": "markdown",
   "metadata": {
    "id": "yvtOpzCCsMe-"
   },
   "source": [
    "In a similar way, you could understand the features and their importance in the case of KNN for classification through partial dependence plots -- another situation where, after fitting the model, you do not get parameters.  In the next module, you will explore a classification method called Logistic Regression that solves classification problems and contains coefficients after fitting. "
   ]
  },
  {
   "cell_type": "code",
   "execution_count": null,
   "metadata": {},
   "outputs": [],
   "source": []
  },
  {
   "cell_type": "code",
   "execution_count": null,
   "metadata": {},
   "outputs": [],
   "source": []
  }
 ],
 "metadata": {
  "colab": {
   "collapsed_sections": [],
   "name": "coding_assignment_12_7.ipynb",
   "provenance": []
  },
  "kernelspec": {
   "display_name": "Python 3 (ipykernel)",
   "language": "python",
   "name": "python3"
  },
  "language_info": {
   "codemirror_mode": {
    "name": "ipython",
    "version": 3
   },
   "file_extension": ".py",
   "mimetype": "text/x-python",
   "name": "python",
   "nbconvert_exporter": "python",
   "pygments_lexer": "ipython3",
   "version": "3.12.8"
  }
 },
 "nbformat": 4,
 "nbformat_minor": 4
}
