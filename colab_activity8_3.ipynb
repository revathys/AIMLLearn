{
  "cells": [
    {
      "cell_type": "markdown",
      "metadata": {
        "id": "view-in-github",
        "colab_type": "text"
      },
      "source": [
        "<a href=\"https://colab.research.google.com/github/revathys/Module8Nonlinear-regression/blob/main/colab_activity8_3.ipynb\" target=\"_parent\"><img src=\"https://colab.research.google.com/assets/colab-badge.svg\" alt=\"Open In Colab\"/></a>"
      ]
    },
    {
      "cell_type": "markdown",
      "metadata": {
        "nbgrader": {
          "grade": false,
          "grade_id": "cell-f4f3ef0fa8eec903",
          "locked": true,
          "schema_version": 3,
          "solution": false
        },
        "id": "FHterr5Ap31o"
      },
      "source": [
        "## Self-Study Colab Activity 8.3: Using Validation to Select the Best Combination of Parameters\n",
        "\n",
        "**Expected Time: 60 Minutes**\n",
        "\n",
        "\n",
        "This activity focuses on using a train/test split to select the best hyperparameters for a linear regression model complexity.  You will become familiar with scikit-learn's `train_test_split` function to generate a train/test split and use the results to evaluate the appropriate model complexity.  The datasets used are synthetic so as to allow a comparison with the learned best complexity to that which generated the data.  \n",
        "\n",
        "## Index:\n",
        "\n",
        "- [Problem 1](#Problem-1)\n",
        "- [Problem 2](#Problem-2)\n",
        "- [Problem 3](#Problem-3)\n",
        "- [Problem 4](#Problem-4)\n"
      ]
    },
    {
      "cell_type": "code",
      "execution_count": 1,
      "metadata": {
        "id": "j85OGgibp31q"
      },
      "outputs": [],
      "source": [
        "import numpy as np\n",
        "import matplotlib.pyplot as plt\n",
        "import seaborn as sns\n",
        "from sklearn.linear_model import LinearRegression\n",
        "from sklearn.metrics import mean_squared_error\n",
        "from sklearn.preprocessing import PolynomialFeatures\n",
        "from sklearn.pipeline import Pipeline\n",
        "from sklearn.model_selection import train_test_split\n",
        "import pandas as pd"
      ]
    },
    {
      "cell_type": "markdown",
      "metadata": {
        "nbgrader": {
          "grade": false,
          "grade_id": "cell-4816d0d701347e37",
          "locked": true,
          "schema_version": 3,
          "solution": false
        },
        "id": "xP38rzJop31r"
      },
      "source": [
        "### Three Synthetic Datasets\n",
        "\n",
        "Below, polynomial functions of different degrees were created, and noise was added to generate three basic synthetic datasets.  The relationships are then plotted. They are of varying true complexity -- cubic, quadratic, and quintic (polynomials of degree 5).  Your goal is to use cross-validation to determine the appropriate model and examine its mean squared error on a set of validation data."
      ]
    },
    {
      "cell_type": "code",
      "execution_count": 2,
      "metadata": {
        "id": "rrTqoyj_p31r"
      },
      "outputs": [],
      "source": [
        "df = pd.read_csv('data/synthetic_8.6.csv')"
      ]
    },
    {
      "cell_type": "code",
      "execution_count": 3,
      "metadata": {
        "colab": {
          "base_uri": "https://localhost:8080/",
          "height": 206
        },
        "id": "vYJ3e2V7p31r",
        "outputId": "ac0a4870-651a-435f-dcc8-13f864f8355e"
      },
      "outputs": [
        {
          "output_type": "execute_result",
          "data": {
            "text/plain": [
              "          x         y1         y2         y3\n",
              "0 -2.000000  -0.522368   5.698300   3.880352\n",
              "1 -1.929293  -0.711336  -0.257942   8.643553\n",
              "2 -1.858586  -4.759917  12.775233   6.116844\n",
              "3 -1.787879 -10.255472  22.140157  12.493956\n",
              "4 -1.717172  -3.503845  27.656110  10.335220"
            ],
            "text/html": [
              "\n",
              "  <div id=\"df-54cc913d-45fa-44e3-a9b0-e5c17b8f27de\" class=\"colab-df-container\">\n",
              "    <div>\n",
              "<style scoped>\n",
              "    .dataframe tbody tr th:only-of-type {\n",
              "        vertical-align: middle;\n",
              "    }\n",
              "\n",
              "    .dataframe tbody tr th {\n",
              "        vertical-align: top;\n",
              "    }\n",
              "\n",
              "    .dataframe thead th {\n",
              "        text-align: right;\n",
              "    }\n",
              "</style>\n",
              "<table border=\"1\" class=\"dataframe\">\n",
              "  <thead>\n",
              "    <tr style=\"text-align: right;\">\n",
              "      <th></th>\n",
              "      <th>x</th>\n",
              "      <th>y1</th>\n",
              "      <th>y2</th>\n",
              "      <th>y3</th>\n",
              "    </tr>\n",
              "  </thead>\n",
              "  <tbody>\n",
              "    <tr>\n",
              "      <th>0</th>\n",
              "      <td>-2.000000</td>\n",
              "      <td>-0.522368</td>\n",
              "      <td>5.698300</td>\n",
              "      <td>3.880352</td>\n",
              "    </tr>\n",
              "    <tr>\n",
              "      <th>1</th>\n",
              "      <td>-1.929293</td>\n",
              "      <td>-0.711336</td>\n",
              "      <td>-0.257942</td>\n",
              "      <td>8.643553</td>\n",
              "    </tr>\n",
              "    <tr>\n",
              "      <th>2</th>\n",
              "      <td>-1.858586</td>\n",
              "      <td>-4.759917</td>\n",
              "      <td>12.775233</td>\n",
              "      <td>6.116844</td>\n",
              "    </tr>\n",
              "    <tr>\n",
              "      <th>3</th>\n",
              "      <td>-1.787879</td>\n",
              "      <td>-10.255472</td>\n",
              "      <td>22.140157</td>\n",
              "      <td>12.493956</td>\n",
              "    </tr>\n",
              "    <tr>\n",
              "      <th>4</th>\n",
              "      <td>-1.717172</td>\n",
              "      <td>-3.503845</td>\n",
              "      <td>27.656110</td>\n",
              "      <td>10.335220</td>\n",
              "    </tr>\n",
              "  </tbody>\n",
              "</table>\n",
              "</div>\n",
              "    <div class=\"colab-df-buttons\">\n",
              "\n",
              "  <div class=\"colab-df-container\">\n",
              "    <button class=\"colab-df-convert\" onclick=\"convertToInteractive('df-54cc913d-45fa-44e3-a9b0-e5c17b8f27de')\"\n",
              "            title=\"Convert this dataframe to an interactive table.\"\n",
              "            style=\"display:none;\">\n",
              "\n",
              "  <svg xmlns=\"http://www.w3.org/2000/svg\" height=\"24px\" viewBox=\"0 -960 960 960\">\n",
              "    <path d=\"M120-120v-720h720v720H120Zm60-500h600v-160H180v160Zm220 220h160v-160H400v160Zm0 220h160v-160H400v160ZM180-400h160v-160H180v160Zm440 0h160v-160H620v160ZM180-180h160v-160H180v160Zm440 0h160v-160H620v160Z\"/>\n",
              "  </svg>\n",
              "    </button>\n",
              "\n",
              "  <style>\n",
              "    .colab-df-container {\n",
              "      display:flex;\n",
              "      gap: 12px;\n",
              "    }\n",
              "\n",
              "    .colab-df-convert {\n",
              "      background-color: #E8F0FE;\n",
              "      border: none;\n",
              "      border-radius: 50%;\n",
              "      cursor: pointer;\n",
              "      display: none;\n",
              "      fill: #1967D2;\n",
              "      height: 32px;\n",
              "      padding: 0 0 0 0;\n",
              "      width: 32px;\n",
              "    }\n",
              "\n",
              "    .colab-df-convert:hover {\n",
              "      background-color: #E2EBFA;\n",
              "      box-shadow: 0px 1px 2px rgba(60, 64, 67, 0.3), 0px 1px 3px 1px rgba(60, 64, 67, 0.15);\n",
              "      fill: #174EA6;\n",
              "    }\n",
              "\n",
              "    .colab-df-buttons div {\n",
              "      margin-bottom: 4px;\n",
              "    }\n",
              "\n",
              "    [theme=dark] .colab-df-convert {\n",
              "      background-color: #3B4455;\n",
              "      fill: #D2E3FC;\n",
              "    }\n",
              "\n",
              "    [theme=dark] .colab-df-convert:hover {\n",
              "      background-color: #434B5C;\n",
              "      box-shadow: 0px 1px 3px 1px rgba(0, 0, 0, 0.15);\n",
              "      filter: drop-shadow(0px 1px 2px rgba(0, 0, 0, 0.3));\n",
              "      fill: #FFFFFF;\n",
              "    }\n",
              "  </style>\n",
              "\n",
              "    <script>\n",
              "      const buttonEl =\n",
              "        document.querySelector('#df-54cc913d-45fa-44e3-a9b0-e5c17b8f27de button.colab-df-convert');\n",
              "      buttonEl.style.display =\n",
              "        google.colab.kernel.accessAllowed ? 'block' : 'none';\n",
              "\n",
              "      async function convertToInteractive(key) {\n",
              "        const element = document.querySelector('#df-54cc913d-45fa-44e3-a9b0-e5c17b8f27de');\n",
              "        const dataTable =\n",
              "          await google.colab.kernel.invokeFunction('convertToInteractive',\n",
              "                                                    [key], {});\n",
              "        if (!dataTable) return;\n",
              "\n",
              "        const docLinkHtml = 'Like what you see? Visit the ' +\n",
              "          '<a target=\"_blank\" href=https://colab.research.google.com/notebooks/data_table.ipynb>data table notebook</a>'\n",
              "          + ' to learn more about interactive tables.';\n",
              "        element.innerHTML = '';\n",
              "        dataTable['output_type'] = 'display_data';\n",
              "        await google.colab.output.renderOutput(dataTable, element);\n",
              "        const docLink = document.createElement('div');\n",
              "        docLink.innerHTML = docLinkHtml;\n",
              "        element.appendChild(docLink);\n",
              "      }\n",
              "    </script>\n",
              "  </div>\n",
              "\n",
              "\n",
              "    <div id=\"df-5dcdbf33-d9ac-49e6-bf3a-286c9212b08d\">\n",
              "      <button class=\"colab-df-quickchart\" onclick=\"quickchart('df-5dcdbf33-d9ac-49e6-bf3a-286c9212b08d')\"\n",
              "                title=\"Suggest charts\"\n",
              "                style=\"display:none;\">\n",
              "\n",
              "<svg xmlns=\"http://www.w3.org/2000/svg\" height=\"24px\"viewBox=\"0 0 24 24\"\n",
              "     width=\"24px\">\n",
              "    <g>\n",
              "        <path d=\"M19 3H5c-1.1 0-2 .9-2 2v14c0 1.1.9 2 2 2h14c1.1 0 2-.9 2-2V5c0-1.1-.9-2-2-2zM9 17H7v-7h2v7zm4 0h-2V7h2v10zm4 0h-2v-4h2v4z\"/>\n",
              "    </g>\n",
              "</svg>\n",
              "      </button>\n",
              "\n",
              "<style>\n",
              "  .colab-df-quickchart {\n",
              "      --bg-color: #E8F0FE;\n",
              "      --fill-color: #1967D2;\n",
              "      --hover-bg-color: #E2EBFA;\n",
              "      --hover-fill-color: #174EA6;\n",
              "      --disabled-fill-color: #AAA;\n",
              "      --disabled-bg-color: #DDD;\n",
              "  }\n",
              "\n",
              "  [theme=dark] .colab-df-quickchart {\n",
              "      --bg-color: #3B4455;\n",
              "      --fill-color: #D2E3FC;\n",
              "      --hover-bg-color: #434B5C;\n",
              "      --hover-fill-color: #FFFFFF;\n",
              "      --disabled-bg-color: #3B4455;\n",
              "      --disabled-fill-color: #666;\n",
              "  }\n",
              "\n",
              "  .colab-df-quickchart {\n",
              "    background-color: var(--bg-color);\n",
              "    border: none;\n",
              "    border-radius: 50%;\n",
              "    cursor: pointer;\n",
              "    display: none;\n",
              "    fill: var(--fill-color);\n",
              "    height: 32px;\n",
              "    padding: 0;\n",
              "    width: 32px;\n",
              "  }\n",
              "\n",
              "  .colab-df-quickchart:hover {\n",
              "    background-color: var(--hover-bg-color);\n",
              "    box-shadow: 0 1px 2px rgba(60, 64, 67, 0.3), 0 1px 3px 1px rgba(60, 64, 67, 0.15);\n",
              "    fill: var(--button-hover-fill-color);\n",
              "  }\n",
              "\n",
              "  .colab-df-quickchart-complete:disabled,\n",
              "  .colab-df-quickchart-complete:disabled:hover {\n",
              "    background-color: var(--disabled-bg-color);\n",
              "    fill: var(--disabled-fill-color);\n",
              "    box-shadow: none;\n",
              "  }\n",
              "\n",
              "  .colab-df-spinner {\n",
              "    border: 2px solid var(--fill-color);\n",
              "    border-color: transparent;\n",
              "    border-bottom-color: var(--fill-color);\n",
              "    animation:\n",
              "      spin 1s steps(1) infinite;\n",
              "  }\n",
              "\n",
              "  @keyframes spin {\n",
              "    0% {\n",
              "      border-color: transparent;\n",
              "      border-bottom-color: var(--fill-color);\n",
              "      border-left-color: var(--fill-color);\n",
              "    }\n",
              "    20% {\n",
              "      border-color: transparent;\n",
              "      border-left-color: var(--fill-color);\n",
              "      border-top-color: var(--fill-color);\n",
              "    }\n",
              "    30% {\n",
              "      border-color: transparent;\n",
              "      border-left-color: var(--fill-color);\n",
              "      border-top-color: var(--fill-color);\n",
              "      border-right-color: var(--fill-color);\n",
              "    }\n",
              "    40% {\n",
              "      border-color: transparent;\n",
              "      border-right-color: var(--fill-color);\n",
              "      border-top-color: var(--fill-color);\n",
              "    }\n",
              "    60% {\n",
              "      border-color: transparent;\n",
              "      border-right-color: var(--fill-color);\n",
              "    }\n",
              "    80% {\n",
              "      border-color: transparent;\n",
              "      border-right-color: var(--fill-color);\n",
              "      border-bottom-color: var(--fill-color);\n",
              "    }\n",
              "    90% {\n",
              "      border-color: transparent;\n",
              "      border-bottom-color: var(--fill-color);\n",
              "    }\n",
              "  }\n",
              "</style>\n",
              "\n",
              "      <script>\n",
              "        async function quickchart(key) {\n",
              "          const quickchartButtonEl =\n",
              "            document.querySelector('#' + key + ' button');\n",
              "          quickchartButtonEl.disabled = true;  // To prevent multiple clicks.\n",
              "          quickchartButtonEl.classList.add('colab-df-spinner');\n",
              "          try {\n",
              "            const charts = await google.colab.kernel.invokeFunction(\n",
              "                'suggestCharts', [key], {});\n",
              "          } catch (error) {\n",
              "            console.error('Error during call to suggestCharts:', error);\n",
              "          }\n",
              "          quickchartButtonEl.classList.remove('colab-df-spinner');\n",
              "          quickchartButtonEl.classList.add('colab-df-quickchart-complete');\n",
              "        }\n",
              "        (() => {\n",
              "          let quickchartButtonEl =\n",
              "            document.querySelector('#df-5dcdbf33-d9ac-49e6-bf3a-286c9212b08d button');\n",
              "          quickchartButtonEl.style.display =\n",
              "            google.colab.kernel.accessAllowed ? 'block' : 'none';\n",
              "        })();\n",
              "      </script>\n",
              "    </div>\n",
              "\n",
              "    </div>\n",
              "  </div>\n"
            ],
            "application/vnd.google.colaboratory.intrinsic+json": {
              "type": "dataframe",
              "variable_name": "df",
              "summary": "{\n  \"name\": \"df\",\n  \"rows\": 100,\n  \"fields\": [\n    {\n      \"column\": \"x\",\n      \"properties\": {\n        \"dtype\": \"number\",\n        \"std\": 2.051317614456304,\n        \"min\": -2.0,\n        \"max\": 5.0,\n        \"num_unique_values\": 100,\n        \"samples\": [\n          3.868686868686869,\n          1.7474747474747474,\n          2.949494949494949\n        ],\n        \"semantic_type\": \"\",\n        \"description\": \"\"\n      }\n    },\n    {\n      \"column\": \"y1\",\n      \"properties\": {\n        \"dtype\": \"number\",\n        \"std\": 14.248652512375784,\n        \"min\": -13.898868753408886,\n        \"max\": 42.99875498244483,\n        \"num_unique_values\": 100,\n        \"samples\": [\n          26.419004817027663,\n          2.7797093911100648,\n          11.8917314093978\n        ],\n        \"semantic_type\": \"\",\n        \"description\": \"\"\n      }\n    },\n    {\n      \"column\": \"y2\",\n      \"properties\": {\n        \"dtype\": \"number\",\n        \"std\": 65.66801351423055,\n        \"min\": -199.28143820847728,\n        \"max\": 39.02856876812389,\n        \"num_unique_values\": 100,\n        \"samples\": [\n          -177.40640742065352,\n          5.225661488425455,\n          -76.03907581980185\n        ],\n        \"semantic_type\": \"\",\n        \"description\": \"\"\n      }\n    },\n    {\n      \"column\": \"y3\",\n      \"properties\": {\n        \"dtype\": \"number\",\n        \"std\": 9.541973945246228,\n        \"min\": -34.92895375746235,\n        \"max\": 18.193712615708264,\n        \"num_unique_values\": 100,\n        \"samples\": [\n          7.9556076710083214,\n          6.9512555974912456,\n          17.97240575956159\n        ],\n        \"semantic_type\": \"\",\n        \"description\": \"\"\n      }\n    }\n  ]\n}"
            }
          },
          "metadata": {},
          "execution_count": 3
        }
      ],
      "source": [
        "df.head()"
      ]
    },
    {
      "cell_type": "markdown",
      "metadata": {
        "id": "RW0VkZzEp31s"
      },
      "source": [
        "**Plots of the Synthetic Datasets**\n",
        "\n",
        "<img src = 'images/quad.png'/><img src = 'images/quintic.png'/><img src = 'images/cubic.png'/>"
      ]
    },
    {
      "cell_type": "markdown",
      "metadata": {
        "nbgrader": {
          "grade": false,
          "grade_id": "cell-51eae9cb036d0cf0",
          "locked": true,
          "schema_version": 3,
          "solution": false
        },
        "id": "BA-Vs3i1p31s"
      },
      "source": [
        "[Back to top](#Index:)\n",
        "\n",
        "### Problem 1\n",
        "\n",
        "#### Creating the Train and Test sets\n",
        "\n",
        "\n",
        "The scikit-learn library has a built-in function called `train_test_split` that accepts one or many arrays and returns a randomized split of the data.  Use the `train_test_split` function to split `x` and `y1` into train and test sets.  Set `random_state = 32` and create a test set using 30% of the data.  Assign your results as arrays to `X_train, X_test, y1_train, y1_test` below.  \n",
        "\n",
        "- In anticipation of using `LinearRegression` estimator, make sure your `X_train` and `X_test` are of shapes (70, 1) and (30, 1) respectively."
      ]
    },
    {
      "cell_type": "code",
      "execution_count": 9,
      "metadata": {
        "nbgrader": {
          "grade": false,
          "grade_id": "cell-9434424b94dba3c0",
          "locked": false,
          "schema_version": 3,
          "solution": true
        },
        "colab": {
          "base_uri": "https://localhost:8080/"
        },
        "id": "O0pQ2fr8p31t",
        "outputId": "fcc8bf31-bbf3-43ae-dd7b-88ef48fe5cc3"
      },
      "outputs": [
        {
          "output_type": "stream",
          "name": "stdout",
          "text": [
            "(100,) (70,) (30,)\n",
            "91    4.434343\n",
            "21   -0.515152\n",
            "61    2.313131\n",
            "0    -2.000000\n",
            "31    0.191919\n",
            "Name: x, dtype: float64\n"
          ]
        }
      ],
      "source": [
        "\n",
        "\n",
        "X_train, X_test, y1_train, y1_test = '', '', '', ''\n",
        "\n",
        "X_train,X_test,y1_train,y1_test = train_test_split(df['x'], df['y1'], test_size = 0.3, random_state = 32)\n",
        "\n",
        "# Answer check\n",
        "print(df['x'].shape, X_train.shape, X_test.shape)\n",
        "print(X_train.head())"
      ]
    },
    {
      "cell_type": "markdown",
      "metadata": {
        "nbgrader": {
          "grade": false,
          "grade_id": "cell-de81ef2bbaab88ac",
          "locked": true,
          "schema_version": 3,
          "solution": false
        },
        "id": "tN2CNJcRp31t"
      },
      "source": [
        "[Back to top](#Index:)\n",
        "\n",
        "### Problem 2\n",
        "\n",
        "\n",
        "Use the `train_test_split` function to create similar splits of `y2` and `y3`.  Use the `random_state = 32` and create a test set using 30% of the data.   Assign your results to `y2_train`, `y2_test`, `y3_train`, and `y3_test` below.  "
      ]
    },
    {
      "cell_type": "code",
      "execution_count": 10,
      "metadata": {
        "nbgrader": {
          "grade": false,
          "grade_id": "cell-14a80d1dd8e68ebc",
          "locked": false,
          "schema_version": 3,
          "solution": true
        },
        "colab": {
          "base_uri": "https://localhost:8080/"
        },
        "id": "J9s7FyZIp31t",
        "outputId": "e0d0f092-6ccb-4a79-c56b-3c4423c774c6"
      },
      "outputs": [
        {
          "output_type": "stream",
          "name": "stdout",
          "text": [
            "(100,) (70,) (30,)\n",
            "91   -173.744136\n",
            "21    -28.021552\n",
            "61    -15.806732\n",
            "0       5.698300\n",
            "31    -21.696552\n",
            "Name: y2, dtype: float64\n"
          ]
        }
      ],
      "source": [
        "\n",
        "\n",
        "y2_train, y2_test, y3_train, y3_test  = train_test_split(df['y2'], df['y3'], test_size = 0.3, random_state = 32)\n",
        "\n",
        "\n",
        "\n",
        "# Answer check\n",
        "print(df['y2'].shape, y2_train.shape, y2_test.shape)\n",
        "print(y2_train.head())"
      ]
    },
    {
      "cell_type": "markdown",
      "metadata": {
        "nbgrader": {
          "grade": false,
          "grade_id": "cell-d22e18e493c7a842",
          "locked": true,
          "schema_version": 3,
          "solution": false
        },
        "id": "0IgqRIn0p31t"
      },
      "source": [
        "[Back to top](#Index:)\n",
        "\n",
        "### Problem 3\n",
        "\n",
        "\n",
        "Use a `for` loop to loop over the values from one to 20. For each iteration `i`:\n",
        "\n",
        "- Use `Pipeline` to create a pipeline object. Inside the pipeline object define a a tuple where the first element is a string identifier `pfeat` and the second element is an instance of `PolynomialFeatures` of degree `i` with `include_bias = False`. Inside the pipeline define another tuple where the first element is a string identifier `linreg`, and the second element is an instance of `LinearRegression`. Assign the pipeline object to the variable `pipe`.\n",
        "- Use the `fit` function on `pipe` to train your model on `X_train` and `y1_train`. Assign the result to `train_preds`.\n",
        "- Use the `predict` function on `pipe` to compute your prediction on `X_test`. Assign the result to `test_preds`.\n",
        "- Use the `mean_squared_error` function to calculate the MSE between `y1_train` and `train_preds`. Append your result to the `train_mses` list.\n",
        "- Use the `mean_squared_error` function to calculate the MSE between `y1_test` and `test_preds`. Append your result to the `test_mses` list."
      ]
    },
    {
      "cell_type": "code",
      "execution_count": 12,
      "metadata": {
        "nbgrader": {
          "grade": false,
          "grade_id": "cell-22388d4a41b01c98",
          "locked": false,
          "schema_version": 3,
          "solution": true
        },
        "id": "XCmXKgvpp31t"
      },
      "outputs": [],
      "source": [
        "\n",
        "\n",
        "train_mses = []\n",
        "test_mses = []\n",
        "\n",
        "#for complexity 1 - 20:\n",
        "for i in range(1,21):\n",
        "    pipe = Pipeline([('pfeat', PolynomialFeatures(degree = i, include_bias = False)), ('linreg', LinearRegression())])\n",
        "    pipe.fit(X_train.values.reshape(-1,1), y1_train)\n",
        "    train_preds = pipe.predict(X_train.values.reshape(-1,1))\n",
        "    test_preds = pipe.predict(X_test.values.reshape(-1,1))\n",
        "    train_mses.append(mean_squared_error(X_train, y1_train))\n",
        "    test_mses.append(mean_squared_error(test_preds, y1_test))\n",
        "    #create pipeline with PolynomialFeatures and LinearRegression\n",
        "    #remember to set include_bias = False\n",
        "\n",
        "    #fit pipeline on training data\n",
        "\n",
        "    #mse of training data\n",
        "\n",
        "    #mse of testing data\n",
        "\n",
        "best_model_complexity = ''\n",
        "\n",
        "\n",
        "# Answer check"
      ]
    },
    {
      "cell_type": "markdown",
      "metadata": {
        "id": "VQZwQ_mNp31t"
      },
      "source": [
        "Uncomment the code below to visualize the results of your model fitting.  Note that the data in `y1` were created from a quadratic model originally."
      ]
    },
    {
      "cell_type": "code",
      "execution_count": 13,
      "metadata": {
        "colab": {
          "base_uri": "https://localhost:8080/",
          "height": 467
        },
        "id": "CELZA8KIp31u",
        "outputId": "bac1520a-4f47-4450-bc61-8693fdb7e441"
      },
      "outputs": [
        {
          "output_type": "stream",
          "name": "stdout",
          "text": [
            "The Complexity that minimized Test Error was: 2\n"
          ]
        },
        {
          "output_type": "display_data",
          "data": {
            "text/plain": [
              "<Figure size 640x480 with 1 Axes>"
            ],
            "image/png": "[encoded data removed]"
          },
          "metadata": {}
        }
      ],
      "source": [
        "print(f'The Complexity that minimized Test Error was: {test_mses.index(min(test_mses)) + 1}')\n",
        "plt.plot(range(1, 21), train_mses, '--o', label = 'training error')\n",
        "plt.plot(range(1, 21), test_mses, '--o', label = 'testing error')\n",
        "plt.xticks(range(1, 21), range(1, 21))\n",
        "plt.xlabel('Degree Complexity')\n",
        "plt.ylabel('Mean Squared Error')\n",
        "plt.legend();"
      ]
    },
    {
      "cell_type": "markdown",
      "metadata": {
        "nbgrader": {
          "grade": false,
          "grade_id": "cell-fbff2877fa3e10c1",
          "locked": true,
          "schema_version": 3,
          "solution": false
        },
        "id": "koWim39yp31u"
      },
      "source": [
        "[Back to top](#Index:)\n",
        "\n",
        "### Problem 4\n",
        "\n",
        "#### Write a function to determine best model complexity\n",
        "\n",
        "\n",
        "\n",
        "Complete the definition of the `simple_cross_validation` function according to the following instructions:\n",
        "\n",
        "\n",
        "Use a `for` loop to loop over the values from one to 20. For each iteration `i`:\n",
        "\n",
        "- Use `Pipeline` to create a pipeline object. Inside the pipeline object define a a tuple where the first element is a string identifier `pfeat` and the second element is an instance of `PolynomialFeatures` of degree `i` with `include_bias = False`. Inside the pipeline define another tuple where the first element is a string identifier `linreg`, and the second element is an instance of `LinearRegression`. Assign the pipeline object to the variable `pipe`.\n",
        "- Use the `fit` function on `pipe` to train your model on `X_train` and `y_train`.\n",
        "- Use the `predict` function on `pipe` to compute your prediction on `X_test`. Assign the result to `test_preds`.\n",
        "- Use the `mean_squared_error` function to calculate the MSE between `y_test` and `test_preds`. Assign your result to `test_mse`.\n",
        "- Use an `if` statement to check that `test_mse` is less than `best_mse`:\n",
        "    - If the condition is satisifed assign `test_mse` to `best_mse` and `pipe` to `best_pipe`.\n",
        "- Your function should return `best_pipe`."
      ]
    },
    {
      "cell_type": "code",
      "execution_count": 14,
      "metadata": {
        "nbgrader": {
          "grade": false,
          "grade_id": "cell-68f0fca2c0aa71b4",
          "locked": false,
          "schema_version": 3,
          "solution": true
        },
        "colab": {
          "base_uri": "https://localhost:8080/"
        },
        "id": "LZxG1-fTp31u",
        "outputId": "91f8259e-6ffa-4725-a7f1-88e0076e1624"
      },
      "outputs": [
        {
          "output_type": "execute_result",
          "data": {
            "text/plain": [
              "{'memory': None,\n",
              " 'steps': [('pfeat', PolynomialFeatures(degree=10, include_bias=False)),\n",
              "  ('linreg', LinearRegression())],\n",
              " 'transform_input': None,\n",
              " 'verbose': False,\n",
              " 'pfeat': PolynomialFeatures(degree=10, include_bias=False),\n",
              " 'linreg': LinearRegression(),\n",
              " 'pfeat__degree': 10,\n",
              " 'pfeat__include_bias': False,\n",
              " 'pfeat__interaction_only': False,\n",
              " 'pfeat__order': 'C',\n",
              " 'linreg__copy_X': True,\n",
              " 'linreg__fit_intercept': True,\n",
              " 'linreg__n_jobs': None,\n",
              " 'linreg__positive': False}"
            ]
          },
          "metadata": {},
          "execution_count": 14
        }
      ],
      "source": [
        "\n",
        "\n",
        "def simple_cross_validation(X_train, y_train, X_test, y_test):\n",
        "    best_pipe = None #placeholder for best model\n",
        "    best_mse = np.inf #set best mse to infinity to begin\n",
        "    #for complexity 1 - 20:\n",
        "    for i in range(1,21):\n",
        "        pipe = Pipeline([('pfeat', PolynomialFeatures(degree = i, include_bias = False)), ('linreg', LinearRegression())])\n",
        "        pipe.fit(X_train.values.reshape(-1,1), y_train)\n",
        "        test_preds = pipe.predict(X_test.values.reshape(-1,1))\n",
        "        test_mse = mean_squared_error(y_test, test_preds)\n",
        "        if(test_mse < best_mse):\n",
        "            best_mse = test_mse\n",
        "            best_pipe = pipe\n",
        "    return best_pipe\n",
        "        #create pipeline with PolynomialFeatures and LinearRegression\n",
        "        #remember to set include_bias = False\n",
        "\n",
        "        #fit pipeline on training data\n",
        "\n",
        "        #mse of testing data\n",
        "\n",
        "        #if mse is best -- set best_pipe = pipe\n",
        "\n",
        "        #return best pipeline\n",
        "\n",
        "\n",
        "\n",
        "best_model = simple_cross_validation(X_train, y2_train, X_test, y2_test)\n",
        "best_model.get_params() #should be degree = 10"
      ]
    },
    {
      "cell_type": "code",
      "execution_count": null,
      "metadata": {
        "id": "KPThE7RIp31u"
      },
      "outputs": [],
      "source": []
    },
    {
      "cell_type": "code",
      "execution_count": null,
      "metadata": {
        "id": "unRxqIUbp31u"
      },
      "outputs": [],
      "source": []
    },
    {
      "cell_type": "code",
      "execution_count": null,
      "metadata": {
        "id": "7U1fGHukp31u"
      },
      "outputs": [],
      "source": []
    }
  ],
  "metadata": {
    "celltoolbar": "Create Assignment",
    "kernelspec": {
      "display_name": "Python 3 (ipykernel)",
      "language": "python",
      "name": "python3"
    },
    "language_info": {
      "codemirror_mode": {
        "name": "ipython",
        "version": 3
      },
      "file_extension": ".py",
      "mimetype": "text/x-python",
      "name": "python",
      "nbconvert_exporter": "python",
      "pygments_lexer": "ipython3",
      "version": "3.12.4"
    },
    "colab": {
      "provenance": [],
      "include_colab_link": true
    }
  },
  "nbformat": 4,
  "nbformat_minor": 0
}